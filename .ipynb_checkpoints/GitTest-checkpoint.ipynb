{
 "cells": [
  {
   "cell_type": "code",
   "execution_count": 1,
   "id": "757bcbd8-08d2-4737-a5e5-e59f5327d5f7",
   "metadata": {},
   "outputs": [
    {
     "name": "stdout",
     "output_type": "stream",
     "text": [
      "This is to test Github\n"
     ]
    }
   ],
   "source": [
    "print(\"This is to test Github\")"
   ]
  },
  {
   "cell_type": "code",
   "execution_count": 2,
   "id": "6ee1b25a-a8d0-4002-8c84-9dc761bec56d",
   "metadata": {},
   "outputs": [
    {
     "name": "stdout",
     "output_type": "stream",
     "text": [
      "This is to the test Branch\n"
     ]
    }
   ],
   "source": [
    "print(\"This is to the test Branch\")"
   ]
  },
  {
   "cell_type": "code",
   "execution_count": null,
   "id": "c8606142-cb9c-4beb-9350-f79ebbfbc115",
   "metadata": {},
   "outputs": [],
   "source": []
  },
  {
   "cell_type": "code",
   "execution_count": null,
   "id": "24197c71-47fe-48ea-8a77-1bcf846d0c18",
   "metadata": {},
   "outputs": [],
   "source": []
  }
 ],
 "metadata": {
  "kernelspec": {
   "display_name": "Python 3",
   "language": "python",
   "name": "python3"
  },
  "language_info": {
   "codemirror_mode": {
    "name": "ipython",
    "version": 3
   },
   "file_extension": ".py",
   "mimetype": "text/x-python",
   "name": "python",
   "nbconvert_exporter": "python",
   "pygments_lexer": "ipython3",
   "version": "3.8.8"
  }
 },
 "nbformat": 4,
 "nbformat_minor": 5
}
